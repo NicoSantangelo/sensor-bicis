{
 "metadata": {
  "name": ""
 },
 "nbformat": 3,
 "nbformat_minor": 0,
 "worksheets": [
  {
   "cells": [
    {
     "cell_type": "code",
     "collapsed": false,
     "input": [
      "import matplotlib.pylab as pylab\n",
      "pylab.rcParams['figure.figsize'] = 16, 12\n",
      "\n",
      "import csv\n",
      "s=600000 # offset de linea dentro del archivo\n",
      "e=200000 # cuantas lineas leer\n",
      "x,y,z= [],[],[]\n",
      "#reader=csv.reader(open(\"valores-work-23.csv\"), dialect=\"excel-tab\")\n",
      "reader=csv.reader(open(\"valores-sensor2.csv\"), dialect=\"excel-tab\")\n",
      "\n",
      "#for i in range(s):\n",
      "#    line=reader.next()\n",
      "    \n",
      "#for i in range(e):\n",
      "#    line = reader.next()\n",
      "for line in reader:\n",
      "    try:\n",
      "        nx=float(line[0])\n",
      "        ny=float(line[1])\n",
      "        nz=float(line[2])\n",
      "        x.append(nx < 90 and nx or 70)\n",
      "        y.append(ny)\n",
      "        z.append(nz*10 + 40) \n",
      "    except Exception:\n",
      "        print line\n",
      "#fig,axis=plt.subplots()\n",
      "\n",
      "#fig.canvas.draw()\n",
      "#plt.plot(y[s:e])\n",
      "#plt.plot(x[s:e])\n",
      "#plt.plot(z)\n",
      "del reader"
     ],
     "language": "python",
     "metadata": {},
     "outputs": [
      {
       "output_type": "stream",
       "stream": "stdout",
       "text": [
        "['38.71', '37.7\\xb170', '1.02']\n"
       ]
      }
     ],
     "prompt_number": 15
    },
    {
     "cell_type": "code",
     "collapsed": false,
     "input": [
      "plt.close()\n",
      "# \"ma\" por moving average\n",
      "alpha=100\n",
      "inicio=3000000\n",
      "ma=float(y[inicio])+0.0001\n",
      "ma2=ma\n",
      "ema = ma\n",
      "vari=ma*0.1 #varianza inicial de 30% para evitar falsos detects\n",
      "# para acumular valores de ma para mas tarde\n",
      "mas, vars, mas2, detects, arcDetects, diferencias, arcos = [], [], [], [], [], [], []\n",
      "flag=0   # si ya estamos \"dentro\" de un evento detectado o fuera\n",
      "# cantidad de eventos\n",
      "count = 0\n",
      "arcCount = 0 \n",
      "arcArea = 0\n",
      "umb=1.23\n",
      "arcLen = 0\n",
      "lastPeak = 0\n",
      "bicis = 0\n",
      "validArc = False\n",
      "for e in x[inicio:]:\n",
      "    \n",
      "    ma2 = (2*ma2  +e) / 3 \n",
      "    delta = ma2-ma\n",
      "    \n",
      "    if (delta < 5*vari ):\n",
      "        vari = (100*vari + abs(delta))/(100+1)\n",
      "  \n",
      "    vars.append(vari) # dejo la varianza anterior si es un punto extremo\n",
      "\n",
      "    \n",
      "    if (delta < 5*vari ):\n",
      "        ma = (ma * alpha +e) / (alpha+1)\n",
      "    \n",
      "     \n",
      "      \n",
      "    if (delta < 5.0 * vari):       \n",
      "        flag = 0\n",
      "        detects.append(None)\n",
      "    else:\n",
      "        if (flag == 0 ):\n",
      "            count += 1\n",
      "            detects.append(e) \n",
      "            flag = 1\n",
      "            if len(detects)-lastPeak< 250:\n",
      "                bicis += 1\n",
      "            lastPeak = len(detects)\n",
      "        else:\n",
      "            detects.append(None)\n",
      "            \n",
      "    \n",
      "    if ((e - ma) > 1):\n",
      "        arcLen += 1\n",
      "        arcArea += (e-ma) \n",
      "    else:\n",
      "        arcLen = 0\n",
      "        if (arcArea != 0) and validArc:\n",
      "            arcos.append(arcArea)\n",
      "            arcArea = 0\n",
      "            validArc = False\n",
      "        elif not validArc:\n",
      "            arcArea = 0\n",
      "    if arcLen > 30:\n",
      "        validArc=True\n",
      "        arcCount += 1\n",
      "        arcLen = 0\n",
      "        arcDetects.append(e)\n",
      "    else:\n",
      "        arcDetects.append(None)\n",
      "            \n",
      "    #diferencias.append((e/ma)*10 + 10)\n",
      "    \n",
      "    mas.append(ma)\n",
      "    mas2.append(ma2)\n",
      "    \n",
      "\n",
      "plt.plot([ e - ma for (e,ma) in zip(x[inicio:],mas)],\"c-\")\n",
      "\n",
      "plt.plot(mas, \"b-\")\n",
      "\n",
      "#plt.plot([ e +3*v for (e,v) in zip(mas,vars) ])\n",
      "#plt.plot([ e +5*v for (e,v) in zip(mas,vars) ])\n",
      "plt.plot([ e and (e - ma) or None for (e,ma) in zip(detects,mas)],\"ro\")\n",
      "# el 0.9 es solo por efecto visual\n",
      "plt.plot([ e and (e - ma)*0.9 or None for (e,ma) in zip(arcDetects,mas)],\"yo\")\n",
      "\n",
      "print \"Detectados: %s puntos (%s bicis)\" % (count, bicis)\n",
      "print \"Detectados: %s arcos\" % arcCount\n",
      "print arcos"
     ],
     "language": "python",
     "metadata": {},
     "outputs": [
      {
       "output_type": "stream",
       "stream": "stdout",
       "text": [
        "Detectados: 143 puntos (25 bicis)\n",
        "Detectados: 114 arcos\n",
        "[170.40137686548786, 270.3610915763357, 95.05682262715624, 246.99324419065954, 101.79468629941447, 130.2911438429217, 196.94476343625007, 184.21983402463167, 282.39526735703873, 132.75575005556652, 102.35880610564854, 119.96004039105925, 120.63443324080563, 114.86805074912124, 123.35424394626301, 217.86948366725815, 240.5031913215624, 87.38994351813992, 107.86455740954463, 143.02164444444648, 99.32449262016118, 286.26588916435446, 128.44793387117434, 211.03111907974466, 169.97598947413465, 186.50398754453983, 396.7560466357769, 301.7711344301406, 253.03278596320214, 176.29698921629506, 200.77123616980134, 272.0387278237475, 363.0032545292959, 134.80424782933693, 302.0314182433517, 225.61860162024584, 345.80323118347457, 164.3460567819023, 158.29364906415, 152.05666546284905, 204.49099023810288, 344.13259138066803, 265.5109516503535, 722.3895106659188, 440.4718068219739, 266.7704114433544, 305.3520967214389, 308.1042645106283, 181.4067379811716, 217.0094588075813, 171.25655463480692, 221.48779853485917, 153.44208593711414, 301.781254365137, 172.09560385013947, 118.73303987780474, 159.31719889554049, 270.3378587874358, 102.68620927394399, 217.60046137026745, 165.4188779354113, 137.7809950619686, 111.59669462385045, 152.30582822022703, 234.36528143490858, 115.74284883573965, 206.9729771723823, 194.01699246919958, 119.41693986671342, 154.9338497893206, 105.92831297317838, 141.95749836518115, 202.56642765065104, 381.7464955243095, 79.6414573090782, 161.49050161548996, 139.19327777756, 163.71584438313366, 284.9622984156193, 116.08225749458987, 239.66335722828435, 123.57925608346687, 256.7922054487283, 324.25034426965345, 305.81770364178936, 231.14855820458453, 104.75519414580259, 163.67410166419214, 152.00461443147313, 119.69767451737357, 266.8665086038103, 162.65615026333427, 118.38192400147713, 166.04748727324179, 618.6462825269386, 325.0641725443915, 281.4766200106735, 362.2794542059849, 128.39891788365279, 154.76832166805463, 142.1839924204919, 236.56901687373858, 137.38242894404124, 355.92819640514574, 148.5445101472061, 145.97016763250878, 81.82465503379584, 81.54292161602751]\n"
       ]
      }
     ],
     "prompt_number": 27
    },
    {
     "cell_type": "code",
     "collapsed": false,
     "input": [
      "plt.close()"
     ],
     "language": "python",
     "metadata": {},
     "outputs": [],
     "prompt_number": "*"
    },
    {
     "cell_type": "code",
     "collapsed": false,
     "input": [
      "print mas.pop()\n"
     ],
     "language": "python",
     "metadata": {},
     "outputs": [
      {
       "output_type": "stream",
       "stream": "stdout",
       "text": [
        "17.7801176866\n"
       ]
      }
     ],
     "prompt_number": 29
    }
   ],
   "metadata": {}
  }
 ]
}